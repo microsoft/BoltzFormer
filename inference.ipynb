{
 "cells": [
  {
   "cell_type": "code",
   "execution_count": 1,
   "metadata": {},
   "outputs": [
    {
     "name": "stderr",
     "output_type": "stream",
     "text": [
      "/tmp/ipykernel_438893/2723552214.py:10: UserWarning: \n",
      "The version_base parameter is not specified.\n",
      "Please specify a compatability version level, or None.\n",
      "Will assume defaults for version 1.1\n",
      "  hydra.initialize(config_path=\"configs\", job_name=\"example_prediction\")\n",
      "/home/theodorezhao/miniconda3/envs/seem/lib/python3.8/site-packages/hydra/_internal/defaults_list.py:251: UserWarning: In 'boltzformer_model': Defaults list is missing `_self_`. See https://hydra.cc/docs/1.2/upgrades/1.0_to_1.1/default_composition_order for more information\n",
      "  warnings.warn(msg, UserWarning)\n",
      "/home/theodorezhao/miniconda3/envs/seem/lib/python3.8/site-packages/tqdm/auto.py:21: TqdmWarning: IProgress not found. Please update jupyter and ipywidgets. See https://ipywidgets.readthedocs.io/en/stable/user_install.html\n",
      "  from .autonotebook import tqdm as notebook_tqdm\n"
     ]
    }
   ],
   "source": [
    "from PIL import Image\n",
    "import torch\n",
    "import numpy as np\n",
    "import hydra\n",
    "from hydra import compose\n",
    "from hydra.core.global_hydra import GlobalHydra\n",
    "\n",
    "# Initialize Hydra and load configuration\n",
    "GlobalHydra.instance().clear()\n",
    "hydra.initialize(config_path=\"configs\", job_name=\"example_prediction\")\n",
    "cfg = compose(config_name=\"boltzformer_model\")\n",
    "\n",
    "# Instantiate the model from the configuration\n",
    "model = hydra.utils.instantiate(cfg, _convert_=\"object\")\n",
    "# model.load_pretrained('PretrainedModels/boltzformer+focal-l.pt')"
   ]
  },
  {
   "cell_type": "markdown",
   "metadata": {},
   "source": [
    "### Example Input and Output"
   ]
  },
  {
   "cell_type": "code",
   "execution_count": 5,
   "metadata": {},
   "outputs": [
    {
     "name": "stdout",
     "output_type": "stream",
     "text": [
      "torch.Size([3, 1024, 1024]) tensor(255.) tensor(0.)\n",
      "torch.Size([1, 1024, 1024]) tensor(1., dtype=torch.float64) tensor(0., dtype=torch.float64)\n"
     ]
    }
   ],
   "source": [
    "# Load an example input image\n",
    "image = Image.open(\"examples/01_CT_lung.png\").convert(\"RGB\")\n",
    "image_array = np.array(image, dtype=np.float32)\n",
    "image_tensor = torch.from_numpy(image_array).permute(2, 0, 1)\n",
    "print(image_tensor.shape, image_tensor.max(), image_tensor.min())\n",
    "\n",
    "# ground truth mask\n",
    "mask = Image.open(\"examples/01_CT_lung_nodule.png\").convert(\"L\")\n",
    "mask_array = np.array(mask, dtype=np.float32)\n",
    "mask_tensor = torch.from_numpy(1.0*(mask_array>0)).unsqueeze(0)\n",
    "print(mask_tensor.shape, mask_tensor.max(), mask_tensor.min())\n",
    "\n",
    "# example text prompt\n",
    "text = 'lung nodule in CT scan'"
   ]
  },
  {
   "cell_type": "code",
   "execution_count": 9,
   "metadata": {},
   "outputs": [
    {
     "name": "stdout",
     "output_type": "stream",
     "text": [
      "Loss: 2.0710837047502437\n"
     ]
    }
   ],
   "source": [
    "from utils.loss import BoltzFormerLoss\n",
    "\n",
    "loss_fn = BoltzFormerLoss()\n",
    "\n",
    "# example input\n",
    "input = {\n",
    "    \"image\": image_tensor.unsqueeze(0),\n",
    "    \"text\": [text]\n",
    "}\n",
    "\n",
    "# model forward pass\n",
    "output = model(input, mode=\"train\")\n",
    "\n",
    "loss = loss_fn(output['predictions']['pred_gmasks'], mask_tensor.unsqueeze(0))\n",
    "print(\"Loss:\", loss.item())"
   ]
  }
 ],
 "metadata": {
  "kernelspec": {
   "display_name": "seem",
   "language": "python",
   "name": "python3"
  },
  "language_info": {
   "codemirror_mode": {
    "name": "ipython",
    "version": 3
   },
   "file_extension": ".py",
   "mimetype": "text/x-python",
   "name": "python",
   "nbconvert_exporter": "python",
   "pygments_lexer": "ipython3",
   "version": "3.8.10"
  }
 },
 "nbformat": 4,
 "nbformat_minor": 2
}
